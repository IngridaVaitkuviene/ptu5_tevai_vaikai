{
 "cells": [
  {
   "cell_type": "code",
   "execution_count": 3,
   "metadata": {},
   "outputs": [],
   "source": [
    "from sqlalchemy.orm import sessionmaker\n",
    "from _1018_4models_m2m import engine, Tevas, Vaikas\n",
    "from pprint import pprint\n",
    "\n",
    "session = sessionmaker(engine)()"
   ]
  },
  {
   "cell_type": "code",
   "execution_count": 12,
   "metadata": {},
   "outputs": [],
   "source": [
    "tevas = Tevas(vardas=\"Eugenijus\", pavarde=\"Strazdas\")\n",
    "mama = Tevas(vardas=\"Regina\", pavarde=\"Strazdiene\")\n",
    "ingrida = Vaikas(vardas=\"Ingrida\", pavarde=\"Strazdaite\")\n",
    "jurgita = Vaikas(vardas=\"Jurgita\", pavarde=\"Strazdaite\")\n",
    "\n",
    "\n",
    "tevas.vaikai.append(ingrida)\n",
    "mama.vaikai.append(ingrida)\n",
    "tevas.vaikai.append(jurgita)\n",
    "mama.vaikai.append(jurgita)\n",
    "\n",
    "session.add(tevas)\n",
    "session.add(mama)\n",
    "session.commit()"
   ]
  },
  {
   "cell_type": "code",
   "execution_count": 72,
   "metadata": {},
   "outputs": [
    {
     "name": "stdout",
     "output_type": "stream",
     "text": [
      "[(1, Eugenijus, Strazdas), (2, Regina, Strazdiene)]\n",
      "[(1, Ingrida, Strazdaite), (2, Jurgita, Strazdaite)]\n"
     ]
    }
   ],
   "source": [
    "tevai = session.query(Tevas).all()\n",
    "pprint(tevai)\n",
    "vaikai = session.query(Vaikas).all()\n",
    "pprint(vaikai)"
   ]
  },
  {
   "cell_type": "code",
   "execution_count": 69,
   "metadata": {},
   "outputs": [
    {
     "data": {
      "text/plain": [
       "4"
      ]
     },
     "execution_count": 69,
     "metadata": {},
     "output_type": "execute_result"
    }
   ],
   "source": [
    "trinami = session.query(Tevas).filter(Tevas.id>2)\n",
    "trinami.delete()"
   ]
  },
  {
   "cell_type": "code",
   "execution_count": 71,
   "metadata": {},
   "outputs": [
    {
     "data": {
      "text/plain": [
       "4"
      ]
     },
     "execution_count": 71,
     "metadata": {},
     "output_type": "execute_result"
    }
   ],
   "source": [
    "trinam = session.query(Vaikas).filter(Vaikas.id>2)\n",
    "trinam.delete()"
   ]
  },
  {
   "cell_type": "code",
   "execution_count": 78,
   "metadata": {},
   "outputs": [
    {
     "name": "stdout",
     "output_type": "stream",
     "text": [
      "(1, Eugenijus, Strazdas)\n",
      "- (1, Ingrida, Strazdaite)\n",
      "- (2, Jurgita, Strazdaite)\n",
      "(2, Regina, Strazdiene)\n",
      "- (1, Ingrida, Strazdaite)\n",
      "- (2, Jurgita, Strazdaite)\n"
     ]
    }
   ],
   "source": [
    "for tevas in tevai:\n",
    "    print(tevas)\n",
    "    for vaikas in tevas.vaikai:\n",
    "        print(\"-\", vaikas)\n"
   ]
  },
  {
   "cell_type": "code",
   "execution_count": 79,
   "metadata": {},
   "outputs": [
    {
     "name": "stdout",
     "output_type": "stream",
     "text": [
      "(1, Ingrida, Strazdaite)\n",
      "- (1, Eugenijus, Strazdas)\n",
      "- (2, Regina, Strazdiene)\n",
      "(2, Jurgita, Strazdaite)\n",
      "- (1, Eugenijus, Strazdas)\n",
      "- (2, Regina, Strazdiene)\n"
     ]
    }
   ],
   "source": [
    "for vaikas in vaikai:\n",
    "    print(vaikas)\n",
    "    for tevas in vaikas.tevai:\n",
    "        print(\"-\", tevas)"
   ]
  },
  {
   "cell_type": "code",
   "execution_count": 44,
   "metadata": {},
   "outputs": [],
   "source": [
    "tevas = session.query(Tevas).get(1)\n",
    "mama = session.query(Tevas).get(2)\n",
    "ingrida = session.query(Vaikas).get(1)\n",
    "jurgita = session.query(Vaikas).get(2)"
   ]
  },
  {
   "cell_type": "code",
   "execution_count": 75,
   "metadata": {},
   "outputs": [],
   "source": [
    "tevas.vaikai.append(jurgita)"
   ]
  },
  {
   "cell_type": "code",
   "execution_count": 77,
   "metadata": {},
   "outputs": [],
   "source": [
    "mama.vaikai.append(ingrida)\n",
    "mama.vaikai.append(jurgita)"
   ]
  }
 ],
 "metadata": {
  "kernelspec": {
   "display_name": "Python 3.10.8 ('venv': venv)",
   "language": "python",
   "name": "python3"
  },
  "language_info": {
   "codemirror_mode": {
    "name": "ipython",
    "version": 3
   },
   "file_extension": ".py",
   "mimetype": "text/x-python",
   "name": "python",
   "nbconvert_exporter": "python",
   "pygments_lexer": "ipython3",
   "version": "3.10.8"
  },
  "orig_nbformat": 4,
  "vscode": {
   "interpreter": {
    "hash": "a79a9eb347459cd6586ea977c2c145ff614d608d0965f42260bb01e77a37bd77"
   }
  }
 },
 "nbformat": 4,
 "nbformat_minor": 2
}
