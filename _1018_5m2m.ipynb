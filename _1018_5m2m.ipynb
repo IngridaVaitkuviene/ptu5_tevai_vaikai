{
 "cells": [
  {
   "cell_type": "code",
   "execution_count": 1,
   "metadata": {},
   "outputs": [],
   "source": [
    "from sqlalchemy.orm import sessionmaker\n",
    "from _1018_4models_m2m import engine, Tevas, Vaikas\n",
    "from pprint import pprint\n",
    "\n",
    "session = sessionmaker(engine)()"
   ]
  },
  {
   "cell_type": "code",
   "execution_count": 2,
   "metadata": {},
   "outputs": [],
   "source": [
    "tevas = Tevas(vardas=\"Eugenijus\", pavarde=\"Strazdas\")\n",
    "mama = Tevas(vardas=\"Regina\", pavarde=\"Strazdiene\")\n",
    "ingrida = Vaikas(vardas=\"Ingrida\", pavarde=\"Strazdaite\")\n",
    "jurgita = Vaikas(vardas=\"Jurgita\", pavarde=\"Strazdaite\")\n",
    "\n",
    "tevas.vaikai.append(ingrida)\n",
    "mama.vaikai.append(ingrida)\n",
    "tevas.vaikai.append(jurgita)\n",
    "\n",
    "session.add(tevas)\n",
    "session.add(mama)\n",
    "session.commit()"
   ]
  },
  {
   "cell_type": "code",
   "execution_count": 6,
   "metadata": {},
   "outputs": [
    {
     "name": "stdout",
     "output_type": "stream",
     "text": [
      "[(1, Eugenijus, Strazdas), (2, Regina, Strazdiene)]\n",
      "[(1, Ingrida, Strazdaite), (2, Jurgita, Strazdaite)]\n"
     ]
    }
   ],
   "source": [
    "tevai = session.query(Tevas).all()\n",
    "pprint(tevai)\n",
    "vaikai = session.query(Vaikas).all()\n",
    "pprint(vaikai)"
   ]
  },
  {
   "cell_type": "code",
   "execution_count": 7,
   "metadata": {},
   "outputs": [
    {
     "name": "stdout",
     "output_type": "stream",
     "text": [
      "(1, Eugenijus, Strazdas)\n",
      "- (1, Ingrida, Strazdaite)\n",
      "- (2, Jurgita, Strazdaite)\n",
      "(2, Regina, Strazdiene)\n",
      "- (1, Ingrida, Strazdaite)\n"
     ]
    }
   ],
   "source": [
    "for tevas in tevai:\n",
    "    print(tevas)\n",
    "    for vaikas in tevas.vaikai:\n",
    "        print(\"-\", vaikas)\n"
   ]
  },
  {
   "cell_type": "code",
   "execution_count": 8,
   "metadata": {},
   "outputs": [
    {
     "name": "stdout",
     "output_type": "stream",
     "text": [
      "(1, Ingrida, Strazdaite)\n"
     ]
    },
    {
     "ename": "AttributeError",
     "evalue": "'list' object has no attribute 'tevai'",
     "output_type": "error",
     "traceback": [
      "\u001b[1;31m---------------------------------------------------------------------------\u001b[0m",
      "\u001b[1;31mAttributeError\u001b[0m                            Traceback (most recent call last)",
      "Cell \u001b[1;32mIn [8], line 3\u001b[0m\n\u001b[0;32m      1\u001b[0m \u001b[39mfor\u001b[39;00m vaikas \u001b[39min\u001b[39;00m vaikai:\n\u001b[0;32m      2\u001b[0m     \u001b[39mprint\u001b[39m(vaikas)\n\u001b[1;32m----> 3\u001b[0m     \u001b[39mfor\u001b[39;00m tevas \u001b[39min\u001b[39;00m vaikai\u001b[39m.\u001b[39;49mtevai:\n\u001b[0;32m      4\u001b[0m         \u001b[39mprint\u001b[39m(\u001b[39m\"\u001b[39m\u001b[39m-\u001b[39m\u001b[39m\"\u001b[39m, tevas)\n",
      "\u001b[1;31mAttributeError\u001b[0m: 'list' object has no attribute 'tevai'"
     ]
    }
   ],
   "source": [
    "for vaikas in vaikai:\n",
    "    print(vaikas)\n",
    "    for tevas in vaikai.tevai:\n",
    "        print(\"-\", tevas)"
   ]
  }
 ],
 "metadata": {
  "kernelspec": {
   "display_name": "Python 3.10.8 ('venv': venv)",
   "language": "python",
   "name": "python3"
  },
  "language_info": {
   "codemirror_mode": {
    "name": "ipython",
    "version": 3
   },
   "file_extension": ".py",
   "mimetype": "text/x-python",
   "name": "python",
   "nbconvert_exporter": "python",
   "pygments_lexer": "ipython3",
   "version": "3.10.8"
  },
  "orig_nbformat": 4,
  "vscode": {
   "interpreter": {
    "hash": "a79a9eb347459cd6586ea977c2c145ff614d608d0965f42260bb01e77a37bd77"
   }
  }
 },
 "nbformat": 4,
 "nbformat_minor": 2
}
