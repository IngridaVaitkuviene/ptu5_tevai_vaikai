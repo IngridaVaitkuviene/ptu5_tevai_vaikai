{
 "cells": [
  {
   "cell_type": "code",
   "execution_count": 8,
   "metadata": {},
   "outputs": [],
   "source": [
    "from sqlalchemy.orm import sessionmaker\n",
    "from _1018_1models import engine, Tevas, Vaikas\n",
    "\n",
    "session = sessionmaker(engine)()"
   ]
  },
  {
   "cell_type": "code",
   "execution_count": 12,
   "metadata": {},
   "outputs": [],
   "source": [
    "naujas_tevas = Tevas(vardas=\"Kietas\", pavarde=\"Vyras\")\n",
    "naujas_vaikas = Vaikas(vardas=\"Sustras\", pavarde=\"Vyras\", tevas=naujas_tevas, mokymo_istaiga=\"CodeAcademy\")\n",
    "session.add(naujas_tevas)\n",
    "session.add(naujas_vaikas)\n",
    "session.commit()"
   ]
  },
  {
   "cell_type": "code",
   "execution_count": 3,
   "metadata": {},
   "outputs": [
    {
     "name": "stdout",
     "output_type": "stream",
     "text": [
      "[(1, Sustras, Vyras, (1, Kietas, Vyras)),\n",
      " (2, Gudrus, Vaikis, (2, Rimtas, Vaikis)),\n",
      " (3, Smagi, Vaikyte, (2, Rimtas, Vaikis)),\n",
      " (4, Sustras, Vyras, (3, Kietas, Vyras))]\n"
     ]
    }
   ],
   "source": [
    "from pprint import pprint\n",
    "vaikai = session.query(Vaikas).all()\n",
    "pprint(vaikai)"
   ]
  },
  {
   "cell_type": "code",
   "execution_count": 5,
   "metadata": {},
   "outputs": [
    {
     "data": {
      "text/plain": [
       "[(1, Sustras, Vyras, (1, Kietas, Vyras)),\n",
       " (2, Gudrus, Vaikis, (2, Rimtas, Vaikis)),\n",
       " (3, Smagi, Vaikyte, (2, Rimtas, Vaikis))]"
      ]
     },
     "execution_count": 5,
     "metadata": {},
     "output_type": "execute_result"
    }
   ],
   "source": [
    "vaikai[0].tevas = session.query(Tevas).get(1)\n",
    "# session.commit()\n",
    "vaikai"
   ]
  },
  {
   "cell_type": "code",
   "execution_count": 3,
   "metadata": {},
   "outputs": [],
   "source": [
    "sunelis = Vaikas(vardas=\"Gudrus\", pavarde=\"Vaikis\")\n",
    "dukrele = Vaikas(vardas=\"Smagi\", pavarde=\"Vaikyte\")\n",
    "tevas = Tevas(vardas=\"Rimtas\", pavarde=\"Vaikis\")\n",
    "# tevas.vaikai veikia kaip sarasas\n",
    "tevas.vaikai.append(sunelis)\n",
    "tevas.vaikai.append(dukrele)\n",
    "session.add(tevas)\n",
    "session.commit()"
   ]
  },
  {
   "cell_type": "code",
   "execution_count": 21,
   "metadata": {},
   "outputs": [
    {
     "data": {
      "text/plain": [
       "[(2, Gudrus, Vaikis, (2, Rimtas, Vaikis)),\n",
       " (3, Smagi, Vaikyte, (2, Rimtas, Vaikis))]"
      ]
     },
     "execution_count": 21,
     "metadata": {},
     "output_type": "execute_result"
    }
   ],
   "source": [
    "tevas = session.query(Tevas).get(2)\n",
    "tevas.vaikai"
   ]
  },
  {
   "cell_type": "code",
   "execution_count": 17,
   "metadata": {},
   "outputs": [
    {
     "name": "stdout",
     "output_type": "stream",
     "text": [
      "tevas:  (1, Kietas, Vyras) \n",
      "vaikai:\n",
      "[(1, Sustras, Vyras, (1, Kietas, Vyras))]\n",
      "tevas:  (2, Rimtas, Vaikis) \n",
      "vaikai:\n",
      "[(2, Gudrus, Vaikis, (2, Rimtas, Vaikis)),\n",
      " (3, Smagi, Vaikyte, (2, Rimtas, Vaikis))]\n",
      "tevas:  (3, Kietas, Vyras) \n",
      "vaikai:\n",
      "[(4, Sustras, Vyras, (3, Kietas, Vyras))]\n"
     ]
    }
   ],
   "source": [
    "tevai = session.query(Tevas).all()\n",
    "for tevas in tevai:\n",
    "    print('tevas: ', tevas, \"\\nvaikai:\")\n",
    "    pprint(tevas.vaikai)"
   ]
  },
  {
   "cell_type": "code",
   "execution_count": 15,
   "metadata": {},
   "outputs": [
    {
     "data": {
      "text/plain": [
       "'Gudrus'"
      ]
     },
     "execution_count": 15,
     "metadata": {},
     "output_type": "execute_result"
    }
   ],
   "source": [
    "tevas.vaikai[0].vardas"
   ]
  },
  {
   "cell_type": "code",
   "execution_count": 23,
   "metadata": {},
   "outputs": [
    {
     "data": {
      "text/plain": [
       "[(2, Gudrus, Vaikis, (2, Rimtas, Vaikis)),\n",
       " (3, Gudri, Vaikyte, (2, Rimtas, Vaikis))]"
      ]
     },
     "execution_count": 23,
     "metadata": {},
     "output_type": "execute_result"
    }
   ],
   "source": [
    "tevas.vaikai[1].vardas = 'Gudri'\n",
    "tevas.vaikai"
   ]
  },
  {
   "cell_type": "code",
   "execution_count": 24,
   "metadata": {},
   "outputs": [
    {
     "data": {
      "text/plain": [
       "(3, Gudri, Vaikyte, None)"
      ]
     },
     "execution_count": 24,
     "metadata": {},
     "output_type": "execute_result"
    }
   ],
   "source": [
    "# jei nenurodai kuri pop() ima paskutini pasirinkto tevo vaika ir panaikina teva\n",
    "pamestinukas = tevas.vaikai.pop()\n",
    "pamestinukas"
   ]
  },
  {
   "cell_type": "code",
   "execution_count": 32,
   "metadata": {},
   "outputs": [
    {
     "data": {
      "text/plain": [
       "[(1, Sustras, Vyras, (1, Kietas, Vyras)),\n",
       " (2, Gudrus, Vaikis, (2, Rimtas, Vaikis)),\n",
       " (3, Gudri, Vaikyte, (2, Rimtas, Vaikis)),\n",
       " (4, Gudrus, Vyras, (3, Kietas, Vyras))]"
      ]
     },
     "execution_count": 32,
     "metadata": {},
     "output_type": "execute_result"
    }
   ],
   "source": [
    "vaikai = session.query(Vaikas).all()\n",
    "vaikai"
   ]
  },
  {
   "cell_type": "code",
   "execution_count": 26,
   "metadata": {},
   "outputs": [
    {
     "data": {
      "text/plain": [
       "(2, Rimtas, Vaikis)"
      ]
     },
     "execution_count": 26,
     "metadata": {},
     "output_type": "execute_result"
    }
   ],
   "source": [
    "# istrina vaikus\n",
    "tevas.vaikai.remove(vaikai[1])\n",
    "tevas"
   ]
  },
  {
   "cell_type": "code",
   "execution_count": 29,
   "metadata": {},
   "outputs": [],
   "source": [
    "# pridejo vaikus\n",
    "tevas.vaikai.append(vaikai[1])\n",
    "tevas.vaikai.append(vaikai[2])"
   ]
  },
  {
   "cell_type": "code",
   "execution_count": 4,
   "metadata": {},
   "outputs": [
    {
     "ename": "NameError",
     "evalue": "name 'tevas' is not defined",
     "output_type": "error",
     "traceback": [
      "\u001b[1;31m---------------------------------------------------------------------------\u001b[0m",
      "\u001b[1;31mNameError\u001b[0m                                 Traceback (most recent call last)",
      "Cell \u001b[1;32mIn [4], line 1\u001b[0m\n\u001b[1;32m----> 1\u001b[0m pprint(tevas\u001b[39m.\u001b[39mvaikai)\n",
      "\u001b[1;31mNameError\u001b[0m: name 'tevas' is not defined"
     ]
    }
   ],
   "source": [
    "pprint(tevas.vaikai)"
   ]
  },
  {
   "cell_type": "code",
   "execution_count": 2,
   "metadata": {},
   "outputs": [],
   "source": [
    "from _1018_2crud import update_object, delete_object"
   ]
  },
  {
   "cell_type": "code",
   "execution_count": 7,
   "metadata": {},
   "outputs": [
    {
     "data": {
      "text/plain": [
       "(2, Rimtesnis, Vaikis)"
      ]
     },
     "execution_count": 7,
     "metadata": {},
     "output_type": "execute_result"
    }
   ],
   "source": [
    "rimtesnis = update_object(Tevas, 2, vardas=\"Rimtesnis\")\n",
    "rimtesnis"
   ]
  },
  {
   "cell_type": "code",
   "execution_count": 10,
   "metadata": {},
   "outputs": [
    {
     "data": {
      "text/plain": [
       "[(2, Rimtesnis, Vaikis)]"
      ]
     },
     "execution_count": 10,
     "metadata": {},
     "output_type": "execute_result"
    }
   ],
   "source": [
    "tevelis = session.query(Tevas).filter(Tevas.vardas.ilike(\"R%\")).all()\n",
    "tevelis"
   ]
  }
 ],
 "metadata": {
  "kernelspec": {
   "display_name": "Python 3.10.8 ('venv': venv)",
   "language": "python",
   "name": "python3"
  },
  "language_info": {
   "codemirror_mode": {
    "name": "ipython",
    "version": 3
   },
   "file_extension": ".py",
   "mimetype": "text/x-python",
   "name": "python",
   "nbconvert_exporter": "python",
   "pygments_lexer": "ipython3",
   "version": "3.10.8"
  },
  "orig_nbformat": 4,
  "vscode": {
   "interpreter": {
    "hash": "a79a9eb347459cd6586ea977c2c145ff614d608d0965f42260bb01e77a37bd77"
   }
  }
 },
 "nbformat": 4,
 "nbformat_minor": 2
}
